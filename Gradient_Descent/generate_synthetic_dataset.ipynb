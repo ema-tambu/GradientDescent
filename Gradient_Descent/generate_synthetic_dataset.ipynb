{
 "cells": [
  {
   "cell_type": "code",
   "execution_count": 3,
   "id": "d1b5b252",
   "metadata": {},
   "outputs": [
    {
     "data": {
      "image/png": "[encoded data removed]",
      "text/plain": [
       "<Figure size 432x288 with 1 Axes>"
      ]
     },
     "metadata": {
      "needs_background": "light"
     },
     "output_type": "display_data"
    }
   ],
   "source": [
    "import numpy as np\n",
    "import matplotlib.pyplot as plt\n",
    "\n",
    "def generate_dataset(num_points, num_classes, domain = [0,1], cluster_std=0.05, min_center_distance=-1):\n",
    "    if (min_center_distance == -1):\n",
    "        min_center_distance = cluster_std\n",
    "    points_per_class = num_points // num_classes\n",
    "    remainder = num_points % num_classes\n",
    "    dataset = []\n",
    "    centers = []\n",
    "\n",
    "    def is_center_far_enough(new_center, centers, min_distance):\n",
    "        return all(np.linalg.norm(new_center - c) >= min_distance for c in centers)\n",
    "\n",
    "    for i in range(num_classes):\n",
    "        # adjust the fact that the overall number of points might not be a perfect multiple of the number of classes\n",
    "        if i < remainder:\n",
    "            num_points_in_class = points_per_class + 1\n",
    "        else:\n",
    "            num_points_in_class = points_per_class\n",
    "\n",
    "        while True:\n",
    "            x_center = np.random.uniform(domain[0],domain[1])\n",
    "            y_center = np.random.uniform(domain[0],domain[1])\n",
    "            center = np.array([x_center, y_center])\n",
    "            if is_center_far_enough(center, centers, min_center_distance):\n",
    "                centers.append(center)\n",
    "                break\n",
    "\n",
    "        x_points = np.random.normal(x_center, cluster_std, num_points_in_class)\n",
    "        y_points = np.random.normal(y_center, cluster_std, num_points_in_class)\n",
    "        points = np.column_stack((x_points, y_points))\n",
    "        labels = np.full(num_points_in_class, i)\n",
    "        class_data = np.column_stack((points, labels))\n",
    "        dataset.append(class_data)\n",
    "\n",
    "    dataset = np.vstack(dataset)\n",
    "    np.random.shuffle(dataset)\n",
    "    return dataset\n",
    "\n",
    "def scatter_dataset(dataset):\n",
    "    X, y = dataset[:, :2], dataset[:, 2]\n",
    "    unique_classes = np.unique(y)\n",
    "    for cls in unique_classes:\n",
    "        class_data = X[y == cls]\n",
    "        plt.scatter(class_data[:, 0], class_data[:, 1], label=f\"Class {cls}\")\n",
    "\n",
    "    plt.legend()\n",
    "    plt.xlabel(\"x\")\n",
    "    plt.ylabel(\"y\")\n",
    "    plt.title(\"Scatter plot of the dataset\")\n",
    "    plt.show()\n",
    "\n",
    "num_points = 100\n",
    "num_classes = 4\n",
    "dataset = generate_dataset(num_points, num_classes)\n",
    "scatter_dataset(dataset)"
   ]
  },
  {
   "cell_type": "code",
   "execution_count": 8,
   "id": "4e1a8e1d",
   "metadata": {},
   "outputs": [],
   "source": [
    "from scipy.io import savemat\n",
    "X, Y = dataset[:, :2], dataset[:, 2].reshape(-1, 1)\n",
    "savemat(\"X_new.mat\", {\"X\": X})\n",
    "savemat(\"Y_new.mat\", {\"Y\": Y})"
   ]
  }
 ],
 "metadata": {
  "kernelspec": {
   "display_name": "Python 3 (ipykernel)",
   "language": "python",
   "name": "python3"
  },
  "language_info": {
   "codemirror_mode": {
    "name": "ipython",
    "version": 3
   },
   "file_extension": ".py",
   "mimetype": "text/x-python",
   "name": "python",
   "nbconvert_exporter": "python",
   "pygments_lexer": "ipython3",
   "version": "3.9.12"
  }
 },
 "nbformat": 4,
 "nbformat_minor": 5
}
